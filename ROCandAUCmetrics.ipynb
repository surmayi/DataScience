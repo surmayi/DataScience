{
 "cells": [
  {
   "cell_type": "markdown",
   "metadata": {},
   "source": [
    "# Choosing the right threshold value for classfication problem using ROC and AUC metrics\n",
    "ROC(Receiver Operating Characteristic Curve) is a probability curve and AUC(Area under the ROC curve) represents degree or measure of separability"
   ]
  },
  {
   "cell_type": "code",
   "execution_count": 20,
   "metadata": {},
   "outputs": [],
   "source": [
    "# Import the usual libraries \n",
    "import pandas as pd\n",
    "import numpy as np\n",
    "import matplotlib.pyplot as plt\n",
    "import seaborn as sns\n",
    "\n",
    "%matplotlib inline"
   ]
  },
  {
   "cell_type": "code",
   "execution_count": 21,
   "metadata": {},
   "outputs": [],
   "source": [
    "# Creating a randomly generated dummy dataset \n",
    "from sklearn.datasets import make_classification\n",
    "# Create X as dependent and Y as the independent variable \n",
    "# No of samples -> 5000\n",
    "# No of independent variables -> 25\n",
    "# No of output classes -> 2\n",
    "# Ratio of each output class -> 1:1\n",
    "x,y = make_classification(n_samples=5000,n_features=25,n_classes=2,weights=[1,1],random_state=0)"
   ]
  },
  {
   "cell_type": "code",
   "execution_count": 22,
   "metadata": {},
   "outputs": [],
   "source": [
    "# Split the data into training set and test set\n",
    "from sklearn.model_selection import train_test_split\n",
    "\n",
    "# ratio of training to test dataset obersavations -> 7:3\n",
    "xtrain, xtest,ytrain,ytest = train_test_split(x,y,test_size=0.3,random_state=101)"
   ]
  },
  {
   "cell_type": "code",
   "execution_count": 54,
   "metadata": {},
   "outputs": [],
   "source": [
    "# Import the relevant roc and auc library\n",
    "from sklearn.metrics import roc_curve,roc_auc_score\n",
    "\n",
    "# Create an empty list that will store the probabilities of each of the classification models\n",
    "pred_final =[]"
   ]
  },
  {
   "cell_type": "code",
   "execution_count": 55,
   "metadata": {},
   "outputs": [
    {
     "name": "stdout",
     "output_type": "stream",
     "text": [
      "Random Forest Classifier 0.9947145820999802\n"
     ]
    }
   ],
   "source": [
    "# Creating a classification model using Random Forest Classifier\n",
    "from sklearn.ensemble import RandomForestClassifier\n",
    "rfc = RandomForestClassifier()\n",
    "\n",
    "#Fit the model using training data\n",
    "rfc.fit(xtrain,ytrain)\n",
    "\n",
    "#Predict probability of each class on the test data\n",
    "predRFC = rfc.predict_proba(xtest)\n",
    "\n",
    "#Check the ROC score of predicting class 1\n",
    "print('Random Forest Classifier',roc_auc_score(ytest,predRFC[:,1]))\n",
    "\n",
    "#Append the predicted probabilities as a Series to the pred_final list\n",
    "pred_final.append(pd.Series(predRFC[:,1]))"
   ]
  },
  {
   "cell_type": "code",
   "execution_count": 56,
   "metadata": {},
   "outputs": [
    {
     "name": "stdout",
     "output_type": "stream",
     "text": [
      "Logistic Regression 0.9956817086851167\n"
     ]
    }
   ],
   "source": [
    "# Creating a classification model using Logistic Regression\n",
    "from sklearn.linear_model import LogisticRegression\n",
    "lg = LogisticRegression()\n",
    "\n",
    "# Fit the model using training data\n",
    "lg.fit(xtrain,ytrain)\n",
    "\n",
    "# Predict probability of each class for the test data\n",
    "predLG =lg.predict_proba(xtest)\n",
    "\n",
    "#Check the ROC score of predicting class 1\n",
    "print('Logistic Regression',roc_auc_score(ytest,predLG[:,1]))\n",
    "\n",
    "#Append the predicted probabilities as a Series to the pred_final list\n",
    "pred_final.append(pd.Series(predLG[:,1]))"
   ]
  },
  {
   "cell_type": "code",
   "execution_count": 27,
   "metadata": {},
   "outputs": [
    {
     "name": "stdout",
     "output_type": "stream",
     "text": [
      "Adaboost Classifier 0.9948159170546729\n"
     ]
    }
   ],
   "source": [
    "# Creating a classification model using Adaboost Classifier\n",
    "from sklearn.ensemble import AdaBoostClassifier\n",
    "adb = AdaBoostClassifier()\n",
    "\n",
    "# Fit the model using the training data\n",
    "adb.fit(xtrain,ytrain)\n",
    "\n",
    "#Predict the probability of each class for test data\n",
    "predADB =adb.predict_proba(xtest)\n",
    "\n",
    "# Check the ROC score of predicting class 1\n",
    "print('Adaboost Classifier',roc_auc_score(ytest,predADB[:,1]))\n",
    "\n",
    "#Append the predicted probabilities as a Series to the pred_final list\n",
    "pred_final.append(pd.Series(predADB[:,1]))"
   ]
  },
  {
   "cell_type": "code",
   "execution_count": 57,
   "metadata": {},
   "outputs": [
    {
     "name": "stdout",
     "output_type": "stream",
     "text": [
      "KNN Classifier 0.9943216869247686\n"
     ]
    }
   ],
   "source": [
    "# Creating a classification model using KNN classifier\n",
    "from sklearn.neighbors import KNeighborsClassifier\n",
    "knn = KNeighborsClassifier()\n",
    "\n",
    "#Fit the model using training data\n",
    "knn.fit(xtrain,ytrain)\n",
    "\n",
    "# Predict the probability of each class for test data\n",
    "predKNN = knn.predict_proba(xtest)\n",
    "\n",
    "# Check the ROC score for predicting class 1\n",
    "print('KNN Classifier',roc_auc_score(ytest,predKNN[:,1]))\n",
    "\n",
    "#Append the predicted probabilities as a Series to the pred_final list\n",
    "pred_final.append(pd.Series(predKNN[:,1]))"
   ]
  },
  {
   "cell_type": "code",
   "execution_count": 58,
   "metadata": {},
   "outputs": [],
   "source": [
    "# Concatanate each of the model's probabilities for class 1 as separate columns in the data frame\n",
    "pred_final = pd.concat(pred_final,axis=1)"
   ]
  },
  {
   "cell_type": "code",
   "execution_count": 59,
   "metadata": {},
   "outputs": [],
   "source": [
    "# Create a single list of probabilties by taking mean of each of the 4 probabilities\n",
    "prob_final = pred_final.mean(axis=1)"
   ]
  },
  {
   "cell_type": "code",
   "execution_count": 60,
   "metadata": {},
   "outputs": [
    {
     "data": {
      "text/plain": [
       "array([1.99996458e+00, 9.99964577e-01, 9.99252738e-01, 9.99243727e-01,\n",
       "       9.87616279e-01, 9.87234381e-01, 9.32602673e-01, 9.32595481e-01,\n",
       "       8.33930741e-01, 8.19507041e-01, 7.42300376e-01, 5.81164618e-01,\n",
       "       5.53707873e-01, 1.68926108e-01, 1.66968091e-01, 7.16202000e-02,\n",
       "       7.16115603e-02, 1.65513454e-03, 1.63856994e-03, 3.86590989e-06,\n",
       "       3.53026419e-06, 8.73993444e-08])"
      ]
     },
     "execution_count": 60,
     "metadata": {},
     "output_type": "execute_result"
    }
   ],
   "source": [
    "# Find False Positive Rate, True Negative Rate and the corresponding threshold using Roc curve \n",
    "# by passing the actual and predicted O/Ps\n",
    "fpr, tpr,threshold = roc_curve(ytest,prob_final)\n",
    "\n",
    "# Note that length of thresholds is not the same as the test set count\n",
    "threshold"
   ]
  },
  {
   "cell_type": "code",
   "execution_count": 61,
   "metadata": {},
   "outputs": [],
   "source": [
    "# Find accuracy of the prediction for each of the threshold\n",
    "from sklearn.metrics import accuracy_score\n",
    "\n",
    "# Creating a list that will hold the accuracy score of each threshold\n",
    "acc_list=[]\n",
    "for thres in threshold:\n",
    "    # Classifying each probability as 0 or 1 based on the threshold\n",
    "    f_pred = np.where(prob_final>thres,1,0)\n",
    "    # Finding the accuracy score of the classification and append it to the acc_list\n",
    "    acc_list.append(accuracy_score(ytest,f_pred,normalize=True))\n",
    "    \n",
    "# Append the threshold value along with the accuracy score for each threshold\n",
    "acc_list= pd.concat([pd.Series(threshold),pd.Series(acc_list)],axis=1)\n",
    "acc_list.columns =['threshold','accuracy']"
   ]
  },
  {
   "cell_type": "code",
   "execution_count": 62,
   "metadata": {},
   "outputs": [
    {
     "data": {
      "text/html": [
       "<div>\n",
       "<style scoped>\n",
       "    .dataframe tbody tr th:only-of-type {\n",
       "        vertical-align: middle;\n",
       "    }\n",
       "\n",
       "    .dataframe tbody tr th {\n",
       "        vertical-align: top;\n",
       "    }\n",
       "\n",
       "    .dataframe thead th {\n",
       "        text-align: right;\n",
       "    }\n",
       "</style>\n",
       "<table border=\"1\" class=\"dataframe\">\n",
       "  <thead>\n",
       "    <tr style=\"text-align: right;\">\n",
       "      <th></th>\n",
       "      <th>threshold</th>\n",
       "      <th>accuracy</th>\n",
       "    </tr>\n",
       "  </thead>\n",
       "  <tbody>\n",
       "    <tr>\n",
       "      <th>10</th>\n",
       "      <td>0.742300</td>\n",
       "      <td>0.993333</td>\n",
       "    </tr>\n",
       "    <tr>\n",
       "      <th>9</th>\n",
       "      <td>0.819507</td>\n",
       "      <td>0.992667</td>\n",
       "    </tr>\n",
       "    <tr>\n",
       "      <th>8</th>\n",
       "      <td>0.833931</td>\n",
       "      <td>0.992000</td>\n",
       "    </tr>\n",
       "    <tr>\n",
       "      <th>11</th>\n",
       "      <td>0.581165</td>\n",
       "      <td>0.992000</td>\n",
       "    </tr>\n",
       "    <tr>\n",
       "      <th>12</th>\n",
       "      <td>0.553708</td>\n",
       "      <td>0.991333</td>\n",
       "    </tr>\n",
       "  </tbody>\n",
       "</table>\n",
       "</div>"
      ],
      "text/plain": [
       "    threshold  accuracy\n",
       "10   0.742300  0.993333\n",
       "9    0.819507  0.992667\n",
       "8    0.833931  0.992000\n",
       "11   0.581165  0.992000\n",
       "12   0.553708  0.991333"
      ]
     },
     "execution_count": 62,
     "metadata": {},
     "output_type": "execute_result"
    }
   ],
   "source": [
    "# Sorting the dataframe by accuracy value in descending order to get the best threshold value and use head to get top 5\n",
    "acc_list = acc_list.sort_values(by='accuracy',ascending=False).head()\n",
    "acc_list"
   ]
  },
  {
   "cell_type": "code",
   "execution_count": null,
   "metadata": {},
   "outputs": [],
   "source": []
  },
  {
   "cell_type": "code",
   "execution_count": 63,
   "metadata": {},
   "outputs": [
    {
     "data": {
      "image/png": "[encoded data removed]",
      "text/plain": [
       "<Figure size 432x288 with 1 Axes>"
      ]
     },
     "metadata": {
      "needs_background": "light"
     },
     "output_type": "display_data"
    }
   ],
   "source": [
    "# Plotting the curve of TPR vs FPR to check Area under the ROC curve\n",
    "def plot_roc_curve(fpr, tpr):\n",
    "    plt.plot(fpr, tpr, color='orange', label='ROC')\n",
    "    plt.plot([0, 1], [0, 1], color='darkblue', linestyle='--')\n",
    "    plt.xlabel('False Positive Rate')\n",
    "    plt.ylabel('True Positive Rate')\n",
    "    plt.title('Receiver Operating Characteristic (ROC) Curve')\n",
    "    plt.legend()\n",
    "    plt.show()\n",
    "plot_roc_curve(fpr,tpr)\n",
    "# AUC(blue dotted) and ROC(yellow) signifies that it has a high accuracy in distinguishing the data into correct classes, its alomst 99-100%  "
   ]
  }
 ],
 "metadata": {
  "kernelspec": {
   "display_name": "Python 3",
   "language": "python",
   "name": "python3"
  },
  "language_info": {
   "codemirror_mode": {
    "name": "ipython",
    "version": 3
   },
   "file_extension": ".py",
   "mimetype": "text/x-python",
   "name": "python",
   "nbconvert_exporter": "python",
   "pygments_lexer": "ipython3",
   "version": "3.7.4"
  }
 },
 "nbformat": 4,
 "nbformat_minor": 4
}
